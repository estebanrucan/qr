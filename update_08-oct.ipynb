{
 "cells": [
  {
   "cell_type": "code",
   "execution_count": 30,
   "metadata": {},
   "outputs": [],
   "source": [
    "import pandas as pd\n",
    "import pyodbc\n",
    "from sqlalchemy import create_engine\n",
    "from datetime import date\n",
    "from ICBAnalytics import GetData\n",
    "\n",
    "pd.set_option('display.max_columns', None)\n",
    "\n",
    "def actualizacion_var():\n",
    "\n",
    "    try:\n",
    "        query = '''\n",
    "        SELECT *\n",
    "        FROM inventarios\n",
    "        '''\n",
    "        data = GetData().get_data_postgresql(query)\n",
    "        print(\"{} Total records in the query!\".format(data.shape[0]))\n",
    "\n",
    "    except Exception as e: \n",
    "            print('Failed to call the query.', e)\n",
    "\n",
    "                \n",
    "    meses = ['ENERO', 'FEBRERO', 'MARZO', 'ABRIL', 'MAYO', 'JUNIO', 'JULIO', 'AGOSTO', 'SEPTIEMBRE', 'OCTUBRE', 'NOVIEMBRE', 'DICIEMBRE']\n",
    "    data['AÑO'] = data['AÑO'].apply(lambda x: int(x))\n",
    "    data['MES'] = data['MES'].apply(lambda x: meses.index(x.upper())+1 if x.upper() in meses else None)\n",
    "    data = data.sort_values(by = 'fecha', ascending = True)\n",
    "    data['Mes completo'] = (data['AÑO'] - 2020)*12 + data['MES']\n",
    "\n",
    "    data['Tipo inventario anterior'] = data.groupby(['Ruta'])['Tipo Inventario'].shift()\n",
    "    data['Valor total anterior'] = data.groupby(['Ruta'])['Valor total'].shift()\n",
    "    data['Inventario anterior'] = data.groupby(['Ruta'])['Inventario'].shift()\n",
    "    data['Mermas anterior'] = data.groupby(['Ruta'])['Mermas'].shift()\n",
    "    data['Vencidos anterior'] = data.groupby(['Ruta'])['Vencidos'].shift()\n",
    "    data['Siniestro anterior'] = data.groupby(['Ruta'])['Siniestro'].shift()\n",
    "\n",
    "    data['fecha'] = pd.to_datetime(data['fecha'])\n",
    "    data[\"fecha_anterior\"] = data.groupby(['Ruta'])['fecha'].shift()\n",
    "    dia_semana = ['Lunes', 'Martes', 'Miercoles', 'Jueves', 'Viernes', 'Sabado', 'Domingo']\n",
    "    data['Dia semana'] = data['fecha'].apply(lambda x: dia_semana[x.weekday()])\n",
    "\n",
    "    data['Siniestro'].fillna(0, inplace = True)\n",
    "    data['Siniestro anterior'].fillna(0, inplace = True)\n",
    "\n",
    "        # Cuenta de inventarios acumulador por vendedor y administrativo\n",
    "    data['Inventarios vendedor'] = data.groupby(['Vendedor']).cumcount()\n",
    "    data['Inventarios administrativo'] = data.groupby(['Administrativo']).cumcount()\n",
    "\n",
    "    cols = ['Ruta', 'Rut Gestor Responsable', 'Vendedor', 'fecha', 'Inventario', 'Mermas', 'Vencidos',\n",
    "            'Siniestro', 'Valor total', 'Inventario anterior', 'Mermas anterior', 'Vencidos anterior',\n",
    "            'Siniestro anterior', 'Valor total anterior', 'MES', 'AÑO', 'inventariado', 'Administrativo', 'Tipo Inventario', 'Orden Camion', 'Tipo inventario anterior']\n",
    "    df = data[cols]\n",
    "\n",
    "    df.sort_values(by = 'fecha', ascending = True, inplace = True)\n",
    "    df.reset_index(drop = True, inplace = True)\n",
    "\n",
    "    df.drop(['Orden Camion'], axis = 1, inplace = True)\n",
    "    df['Ruta con diferencia'] = (df['Valor total'] <= -40000)*1\n",
    "    df['Ruta con diferencia +1'] = df.groupby(['Rut Gestor Responsable'])['Ruta con diferencia'].shift(-1)\n",
    "\n",
    "    #df['Ruta'] = df.groupby(['Rut Gestor Responsable'])['Ruta'].shift(-1)\n",
    "    #df['Rut Gestor Responsable'] = df['Rut Gestor Responsable'].str.upper()\n",
    "    #df['Vendedor'] = df.groupby(['Ruta'])['Vendedor'].shift(-1)\n",
    "\n",
    "    df['Semana'] = pd.to_datetime(df['fecha']).apply(lambda x: x.week)\n",
    "\n",
    "    query = '''\n",
    "\n",
    "    SELECT MAX(fecha)\n",
    "    FROM inv_ampliado\n",
    "        \n",
    "    '''\n",
    "    fecha_max = GetData().get_data_postgresql(query)\n",
    "    fecha_max = pd.to_datetime(fecha_max['max'][0])\n",
    "    year = fecha_max.year\n",
    "    month = fecha_max.month\n",
    "    today = date.today()\n",
    "        \n",
    "    print('Max Year: {}\\nMax month: {}'.format(year, month))\n",
    "\n",
    "    query = \"\"\"\n",
    "    WITH deleted AS (DELETE FROM inv_ampliado \n",
    "                        WHERE CAST(to_char(\"fecha\", 'YYYY') AS INTEGER) = {year}\n",
    "                        AND CAST(to_char(\"fecha\", 'MM') AS INTEGER) >= {month} RETURNING *) SELECT count(*) FROM deleted;\n",
    "\n",
    "        \"\"\".format(year = year, month = month)\n",
    "\n",
    "    rows_deleted = GetData().get_data_postgresql(query)\n",
    "    print('Rows deleted: {}'.format(rows_deleted))\n",
    "    df = df.astype(object).where(pd.notnull(df), None)\n",
    "        \n",
    "    if type(fecha_max) != type(None):\n",
    "        if today.year > year:\n",
    "            df = df[((df['AÑO'] >= year) & (df['MES'] >= month)) | ((df['AÑO'] == today.year) & (df['MES'] == today.month))]\n",
    "        else:\n",
    "            df = df[(df['AÑO'] >= year) & (df['MES'] >= month)]\n",
    "\n",
    "    print(\"{} Total records in the query!\".format(df.shape[0]))\n",
    "\n",
    "        \n",
    "    query = '''\n",
    "        \n",
    "    INSERT INTO public.inv_ampliado(\n",
    "        \"Ruta\",  \"rut_gestor\", \"Vendedor\", \"fecha\", \"Inventario\", \"Mermas\", \"Vencidos\", \"Siniestro\", \"Valor total\", \"Inventario anterior\", \"Mermas anterior\", \"Vencidos anterior\", \"Siniestro anterior\", \"Valor total anterior\", \"MES\", \"AÑO\", inventariado, \"Administrativo\", \"Tipo Inventario\", \"Tipo Inventario anterior\", \"Ruta con diferencia\", \"Ruta con diferencia +1\", \"Semana\")\n",
    "        VALUES (?, ?, ?, ?, ?, ?, ?, ?, ?, ?, ?, ?, ?, ?, ?, ?, ?, ?, ?, ?, ?, ?, ?);\n",
    "        '''\n",
    "\n",
    "    cursor.fast_executemany = True\n",
    "    cursor.executemany(query, df.values.tolist())\n",
    "    cursor.commit()\n",
    "    print(\"Query updated succesfully!\")\n",
    "\n",
    "\n",
    "\n",
    "\n",
    "    return df\n",
    "\n"
   ]
  },
  {
   "cell_type": "code",
   "execution_count": 32,
   "metadata": {},
   "outputs": [
    {
     "name": "stdout",
     "output_type": "stream",
     "text": [
      "Ok\n",
      "PostgreSQL connection is closed\n",
      "244 Total records in the query!\n"
     ]
    },
    {
     "name": "stderr",
     "output_type": "stream",
     "text": [
      "c:\\Users\\erucan\\AppData\\Local\\miniconda3\\envs\\default\\lib\\site-packages\\ICBAnalytics\\get_data_api.py:90: UserWarning: pandas only supports SQLAlchemy connectable (engine/connection) or database string URI or sqlite3 DBAPI2 connection. Other DBAPI2 objects are not tested. Please consider using SQLAlchemy.\n",
      "  data = pd.read_sql(self.query, cnxn)\n"
     ]
    },
    {
     "data": {
      "text/plain": [
       "(244, 29)"
      ]
     },
     "execution_count": 32,
     "metadata": {},
     "output_type": "execute_result"
    }
   ],
   "source": [
    "df = actualizacion_var()\n",
    "df.shape"
   ]
  },
  {
   "cell_type": "code",
   "execution_count": null,
   "metadata": {},
   "outputs": [],
   "source": [
    "df[df[\"Ruta\"] == ]"
   ]
  },
  {
   "cell_type": "code",
   "execution_count": null,
   "metadata": {},
   "outputs": [],
   "source": [
    "df[]"
   ]
  }
 ],
 "metadata": {
  "kernelspec": {
   "display_name": "Python 3",
   "language": "python",
   "name": "python3"
  },
  "language_info": {
   "codemirror_mode": {
    "name": "ipython",
    "version": 3
   },
   "file_extension": ".py",
   "mimetype": "text/x-python",
   "name": "python",
   "nbconvert_exporter": "python",
   "pygments_lexer": "ipython3",
   "version": "3.10.13"
  }
 },
 "nbformat": 4,
 "nbformat_minor": 2
}
