{
 "cells": [
  {
   "cell_type": "code",
   "execution_count": 48,
   "metadata": {},
   "outputs": [
    {
     "name": "stdout",
     "output_type": "stream",
     "text": [
      "Ok\n"
     ]
    },
    {
     "name": "stderr",
     "output_type": "stream",
     "text": [
      "c:\\Users\\erucan\\AppData\\Local\\miniconda3\\envs\\default\\lib\\site-packages\\ICBAnalytics\\get_data_api.py:90: UserWarning: pandas only supports SQLAlchemy connectable (engine/connection) or database string URI or sqlite3 DBAPI2 connection. Other DBAPI2 objects are not tested. Please consider using SQLAlchemy.\n",
      "  data = pd.read_sql(self.query, cnxn)\n"
     ]
    },
    {
     "name": "stdout",
     "output_type": "stream",
     "text": [
      "PostgreSQL connection is closed\n"
     ]
    }
   ],
   "source": [
    "from ICBAnalytics import GetData\n",
    "\n",
    "inv = GetData().get_data_postgresql(\"SELECT * FROM inventarios ORDER BY fecha desc\")\n",
    "#inv_ampliado = GetData().get_data_postgresql(\"SELECT * FROM inv_ampliado ORDER BY fecha desc\")"
   ]
  },
  {
   "cell_type": "code",
   "execution_count": null,
   "metadata": {},
   "outputs": [],
   "source": []
  },
  {
   "cell_type": "code",
   "execution_count": 6,
   "metadata": {},
   "outputs": [],
   "source": [
    "import pandas as pd\n",
    "\n",
    "pd.set_option('display.max_columns', None)"
   ]
  },
  {
   "cell_type": "code",
   "execution_count": 13,
   "metadata": {},
   "outputs": [
    {
     "data": {
      "text/html": [
       "<div>\n",
       "<style scoped>\n",
       "    .dataframe tbody tr th:only-of-type {\n",
       "        vertical-align: middle;\n",
       "    }\n",
       "\n",
       "    .dataframe tbody tr th {\n",
       "        vertical-align: top;\n",
       "    }\n",
       "\n",
       "    .dataframe thead th {\n",
       "        text-align: right;\n",
       "    }\n",
       "</style>\n",
       "<table border=\"1\" class=\"dataframe\">\n",
       "  <thead>\n",
       "    <tr style=\"text-align: right;\">\n",
       "      <th></th>\n",
       "      <th>Ceco</th>\n",
       "      <th>Ruta</th>\n",
       "      <th>Rut Gestor Responsable</th>\n",
       "      <th>Vendedor</th>\n",
       "      <th>fecha</th>\n",
       "      <th>inventariado</th>\n",
       "      <th>Administrativo</th>\n",
       "      <th>Inventario</th>\n",
       "      <th>Mermas</th>\n",
       "      <th>Vencidos</th>\n",
       "      <th>Siniestro</th>\n",
       "      <th>Valor total</th>\n",
       "      <th>Usuario</th>\n",
       "      <th>Tipo Inventario</th>\n",
       "      <th>Orden Camion</th>\n",
       "      <th>Supervisor</th>\n",
       "      <th>MES</th>\n",
       "      <th>AÑO</th>\n",
       "    </tr>\n",
       "  </thead>\n",
       "  <tbody>\n",
       "    <tr>\n",
       "      <th>0</th>\n",
       "      <td>206006</td>\n",
       "      <td>806</td>\n",
       "      <td>16459756-3</td>\n",
       "      <td>FRANCISCO HORMAZABAL HUARES</td>\n",
       "      <td>2024-10-07</td>\n",
       "      <td>Santiago Enea</td>\n",
       "      <td>Eduardo Mata</td>\n",
       "      <td>-21590.0</td>\n",
       "      <td>-12895.0</td>\n",
       "      <td>-117889.0</td>\n",
       "      <td>NaN</td>\n",
       "      <td>-152374.0</td>\n",
       "      <td>EMATA</td>\n",
       "      <td>1</td>\n",
       "      <td>ORDENADO</td>\n",
       "      <td>Jhon Calderon</td>\n",
       "      <td>OCTUBRE</td>\n",
       "      <td>2024</td>\n",
       "    </tr>\n",
       "    <tr>\n",
       "      <th>1</th>\n",
       "      <td>206017</td>\n",
       "      <td>817</td>\n",
       "      <td>15867131-K</td>\n",
       "      <td>Victor Eduardo Carreño Rojas</td>\n",
       "      <td>2024-10-07</td>\n",
       "      <td>Melipilla</td>\n",
       "      <td>Daniel Rojas</td>\n",
       "      <td>10443.0</td>\n",
       "      <td>-12569.0</td>\n",
       "      <td>-48176.0</td>\n",
       "      <td>NaN</td>\n",
       "      <td>-50302.0</td>\n",
       "      <td>DROJAS</td>\n",
       "      <td>1</td>\n",
       "      <td>ORDENADO</td>\n",
       "      <td>Carlos Vera</td>\n",
       "      <td>OCTUBRE</td>\n",
       "      <td>2024</td>\n",
       "    </tr>\n",
       "  </tbody>\n",
       "</table>\n",
       "</div>"
      ],
      "text/plain": [
       "     Ceco Ruta Rut Gestor Responsable                             Vendedor   \n",
       "0  206006  806             16459756-3  FRANCISCO HORMAZABAL HUARES          \\\n",
       "1  206017  817             15867131-K  Victor Eduardo Carreño Rojas          \n",
       "\n",
       "        fecha   inventariado Administrativo  Inventario   Mermas  Vencidos   \n",
       "0  2024-10-07  Santiago Enea   Eduardo Mata    -21590.0 -12895.0 -117889.0  \\\n",
       "1  2024-10-07      Melipilla  Daniel Rojas      10443.0 -12569.0  -48176.0   \n",
       "\n",
       "   Siniestro  Valor total Usuario Tipo Inventario Orden Camion     Supervisor   \n",
       "0        NaN    -152374.0   EMATA               1     ORDENADO  Jhon Calderon  \\\n",
       "1        NaN     -50302.0  DROJAS               1     ORDENADO    Carlos Vera   \n",
       "\n",
       "       MES   AÑO  \n",
       "0  OCTUBRE  2024  \n",
       "1  OCTUBRE  2024  "
      ]
     },
     "metadata": {},
     "output_type": "display_data"
    },
    {
     "data": {
      "text/html": [
       "<div>\n",
       "<style scoped>\n",
       "    .dataframe tbody tr th:only-of-type {\n",
       "        vertical-align: middle;\n",
       "    }\n",
       "\n",
       "    .dataframe tbody tr th {\n",
       "        vertical-align: top;\n",
       "    }\n",
       "\n",
       "    .dataframe thead th {\n",
       "        text-align: right;\n",
       "    }\n",
       "</style>\n",
       "<table border=\"1\" class=\"dataframe\">\n",
       "  <thead>\n",
       "    <tr style=\"text-align: right;\">\n",
       "      <th></th>\n",
       "      <th>Ruta</th>\n",
       "      <th>Vendedor</th>\n",
       "      <th>fecha</th>\n",
       "      <th>Inventario</th>\n",
       "      <th>Mermas</th>\n",
       "      <th>Vencidos</th>\n",
       "      <th>Siniestro</th>\n",
       "      <th>Valor total</th>\n",
       "      <th>Inventario anterior</th>\n",
       "      <th>Mermas anterior</th>\n",
       "      <th>Vencidos anterior</th>\n",
       "      <th>Siniestro anterior</th>\n",
       "      <th>Valor total anterior</th>\n",
       "      <th>MES</th>\n",
       "      <th>AÑO</th>\n",
       "      <th>inventariado</th>\n",
       "      <th>Administrativo</th>\n",
       "      <th>Tipo Inventario</th>\n",
       "      <th>Tipo Inventario anterior</th>\n",
       "      <th>Ruta con diferencia</th>\n",
       "      <th>Ruta con diferencia +1</th>\n",
       "      <th>Semana</th>\n",
       "      <th>id_inventario</th>\n",
       "      <th>Prioridad</th>\n",
       "      <th>rut_gestor</th>\n",
       "    </tr>\n",
       "  </thead>\n",
       "  <tbody>\n",
       "    <tr>\n",
       "      <th>0</th>\n",
       "      <td>A03</td>\n",
       "      <td>RICHARD GUMERCINDO GALLARDO</td>\n",
       "      <td>2024-10-07</td>\n",
       "      <td>-3350.0</td>\n",
       "      <td>-19340.0</td>\n",
       "      <td>-30251.0</td>\n",
       "      <td>0.0</td>\n",
       "      <td>-52941.0</td>\n",
       "      <td>NaN</td>\n",
       "      <td>NaN</td>\n",
       "      <td>NaN</td>\n",
       "      <td>0.0</td>\n",
       "      <td>NaN</td>\n",
       "      <td>10</td>\n",
       "      <td>2024</td>\n",
       "      <td>Viña Del Mar</td>\n",
       "      <td>Claudio Gallardo</td>\n",
       "      <td>1</td>\n",
       "      <td>None</td>\n",
       "      <td>1.0</td>\n",
       "      <td>NaN</td>\n",
       "      <td>41</td>\n",
       "      <td>266387</td>\n",
       "      <td>None</td>\n",
       "      <td>12028212-3</td>\n",
       "    </tr>\n",
       "    <tr>\n",
       "      <th>1</th>\n",
       "      <td>926</td>\n",
       "      <td>Cristian Eduardo Rivera Bizama</td>\n",
       "      <td>2024-10-07</td>\n",
       "      <td>0.0</td>\n",
       "      <td>-2571.0</td>\n",
       "      <td>-15198.0</td>\n",
       "      <td>0.0</td>\n",
       "      <td>-17769.0</td>\n",
       "      <td>NaN</td>\n",
       "      <td>NaN</td>\n",
       "      <td>NaN</td>\n",
       "      <td>0.0</td>\n",
       "      <td>NaN</td>\n",
       "      <td>10</td>\n",
       "      <td>2024</td>\n",
       "      <td>Concepcion</td>\n",
       "      <td>Carlos Sanchez</td>\n",
       "      <td>0.25</td>\n",
       "      <td>None</td>\n",
       "      <td>0.0</td>\n",
       "      <td>NaN</td>\n",
       "      <td>41</td>\n",
       "      <td>266385</td>\n",
       "      <td>None</td>\n",
       "      <td>14512125-6</td>\n",
       "    </tr>\n",
       "  </tbody>\n",
       "</table>\n",
       "</div>"
      ],
      "text/plain": [
       "  Ruta                             Vendedor      fecha  Inventario   Mermas   \n",
       "0  A03  RICHARD GUMERCINDO GALLARDO         2024-10-07     -3350.0 -19340.0  \\\n",
       "1  926  Cristian Eduardo Rivera Bizama      2024-10-07         0.0  -2571.0   \n",
       "\n",
       "   Vencidos  Siniestro  Valor total  Inventario anterior  Mermas anterior   \n",
       "0  -30251.0        0.0     -52941.0                  NaN              NaN  \\\n",
       "1  -15198.0        0.0     -17769.0                  NaN              NaN   \n",
       "\n",
       "   Vencidos anterior  Siniestro anterior  Valor total anterior MES   AÑO   \n",
       "0                NaN                 0.0                   NaN  10  2024  \\\n",
       "1                NaN                 0.0                   NaN  10  2024   \n",
       "\n",
       "   inventariado    Administrativo Tipo Inventario Tipo Inventario anterior   \n",
       "0  Viña Del Mar  Claudio Gallardo               1                     None  \\\n",
       "1    Concepcion    Carlos Sanchez            0.25                     None   \n",
       "\n",
       "   Ruta con diferencia  Ruta con diferencia +1  Semana  id_inventario   \n",
       "0                  1.0                     NaN      41         266387  \\\n",
       "1                  0.0                     NaN      41         266385   \n",
       "\n",
       "  Prioridad  rut_gestor  \n",
       "0      None  12028212-3  \n",
       "1      None  14512125-6  "
      ]
     },
     "metadata": {},
     "output_type": "display_data"
    }
   ],
   "source": [
    "display(inv.head(2))\n",
    "\n",
    "inv[\"fecha\"] = pd.to_datetime(inv[\"fecha\"])\n",
    "inv_ampliado[\"fecha\"] = pd.to_datetime(inv_ampliado[\"fecha\"])\n",
    "display(inv_ampliado.head(2))"
   ]
  },
  {
   "cell_type": "code",
   "execution_count": 9,
   "metadata": {},
   "outputs": [],
   "source": [
    "meses = [\"ENERO\", \"FEBRERO\", \"MARZO\", \"ABRIL\", \"MAYO\", \"JUNIO\", \"JULIO\", \"AGOSTO\", \"SEPTIEMBRE\", \"OCTUBRE\", \"NOVIEMBRE\", \"DICIEMBRE\"]"
   ]
  },
  {
   "cell_type": "code",
   "execution_count": 28,
   "metadata": {},
   "outputs": [
    {
     "data": {
      "text/plain": [
       "<DatetimeArray>\n",
       "['1900-01-29 00:00:00', '2000-11-03 00:00:00', '2024-10-01 00:00:00',\n",
       " '2024-10-02 00:00:00', '2024-10-03 00:00:00', '2024-10-04 00:00:00',\n",
       " '2024-10-05 00:00:00', '2024-10-07 00:00:00']\n",
       "Length: 8, dtype: datetime64[ns]"
      ]
     },
     "execution_count": 28,
     "metadata": {},
     "output_type": "execute_result"
    }
   ],
   "source": [
    "inv[\"fecha\"].sort_values().unique()"
   ]
  },
  {
   "cell_type": "code",
   "execution_count": 41,
   "metadata": {},
   "outputs": [],
   "source": [
    "data = inv_ampliado.query(\"fecha < '2024-10-01'\").copy()\n",
    "data[\"Ceco\"] = pd.NA\n",
    "data[\"Supervisor\"] = pd.NA\n",
    "data[\"Usuario\"] = pd.NA\n",
    "data[\"Orden Camion\"] = pd.NA\n",
    "data = data[[\"Ceco\", \"Ruta\", \"rut_gestor\", \"Vendedor\", \"fecha\", \"inventariado\", \"Administrativo\", \"Inventario\", \"Mermas\", \"Vencidos\", \"Siniestro\", \"Valor total\", \"Usuario\", \"Tipo Inventario\", \"Orden Camion\", \"Supervisor\"]]\n",
    "data[\"MES\"] = data[\"fecha\"].apply(lambda x: meses[x.month - 1])\n",
    "data[\"AÑO\"] = data[\"fecha\"].dt.year\n",
    "data = data.rename(columns={\"rut_gestor\": \"Rut Gestor Responsable\"})"
   ]
  },
  {
   "cell_type": "code",
   "execution_count": 45,
   "metadata": {},
   "outputs": [],
   "source": [
    "data.to_sql(\"inventarios.csv\", index=False)"
   ]
  }
 ],
 "metadata": {
  "kernelspec": {
   "display_name": "Python 3",
   "language": "python",
   "name": "python3"
  },
  "language_info": {
   "codemirror_mode": {
    "name": "ipython",
    "version": 3
   },
   "file_extension": ".py",
   "mimetype": "text/x-python",
   "name": "python",
   "nbconvert_exporter": "python",
   "pygments_lexer": "ipython3",
   "version": "3.10.13"
  }
 },
 "nbformat": 4,
 "nbformat_minor": 2
}
